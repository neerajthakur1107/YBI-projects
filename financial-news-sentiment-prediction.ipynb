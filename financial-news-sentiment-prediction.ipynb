{
 "cells": [
  {
   "cell_type": "code",
   "execution_count": 1,
   "metadata": {
    "execution": {
     "iopub.execute_input": "2021-02-02T22:54:16.705615Z",
     "iopub.status.busy": "2021-02-02T22:54:16.704646Z",
     "iopub.status.idle": "2021-02-02T22:54:23.740958Z",
     "shell.execute_reply": "2021-02-02T22:54:23.740171Z"
    },
    "papermill": {
     "duration": 7.054901,
     "end_time": "2021-02-02T22:54:23.741196",
     "exception": false,
     "start_time": "2021-02-02T22:54:16.686295",
     "status": "completed"
    },
    "tags": []
   },
   "outputs": [],
   "source": [
    "import numpy as np\n",
    "import pandas as pd\n",
    "\n",
    "from tensorflow.keras.preprocessing.text import Tokenizer\n",
    "from tensorflow.keras.preprocessing.sequence import pad_sequences\n",
    "from sklearn.model_selection import train_test_split\n",
    "\n",
    "import tensorflow as tf"
   ]
  },
  {
   "cell_type": "code",
   "execution_count": 2,
   "metadata": {
    "execution": {
     "iopub.execute_input": "2021-02-02T22:54:23.772486Z",
     "iopub.status.busy": "2021-02-02T22:54:23.771705Z",
     "iopub.status.idle": "2021-02-02T22:54:23.811917Z",
     "shell.execute_reply": "2021-02-02T22:54:23.811239Z"
    },
    "papermill": {
     "duration": 0.05793,
     "end_time": "2021-02-02T22:54:23.812160",
     "exception": false,
     "start_time": "2021-02-02T22:54:23.754230",
     "status": "completed"
    },
    "tags": []
   },
   "outputs": [],
   "source": [
    "data = pd.read_csv('/all-data.csv', names=['Label', 'Text'], encoding='latin-1')"
   ]
  },
  {
   "cell_type": "code",
   "execution_count": 3,
   "metadata": {
    "execution": {
     "iopub.execute_input": "2021-02-02T22:54:23.841297Z",
     "iopub.status.busy": "2021-02-02T22:54:23.840253Z",
     "iopub.status.idle": "2021-02-02T22:54:23.871658Z",
     "shell.execute_reply": "2021-02-02T22:54:23.872243Z"
    },
    "papermill": {
     "duration": 0.047871,
     "end_time": "2021-02-02T22:54:23.872463",
     "exception": false,
     "start_time": "2021-02-02T22:54:23.824592",
     "status": "completed"
    },
    "tags": []
   },
   "outputs": [
    {
     "data": {
      "text/html": [
       "<div>\n",
       "<style scoped>\n",
       "    .dataframe tbody tr th:only-of-type {\n",
       "        vertical-align: middle;\n",
       "    }\n",
       "\n",
       "    .dataframe tbody tr th {\n",
       "        vertical-align: top;\n",
       "    }\n",
       "\n",
       "    .dataframe thead th {\n",
       "        text-align: right;\n",
       "    }\n",
       "</style>\n",
       "<table border=\"1\" class=\"dataframe\">\n",
       "  <thead>\n",
       "    <tr style=\"text-align: right;\">\n",
       "      <th></th>\n",
       "      <th>Label</th>\n",
       "      <th>Text</th>\n",
       "    </tr>\n",
       "  </thead>\n",
       "  <tbody>\n",
       "    <tr>\n",
       "      <th>0</th>\n",
       "      <td>neutral</td>\n",
       "      <td>According to Gran , the company has no plans t...</td>\n",
       "    </tr>\n",
       "    <tr>\n",
       "      <th>1</th>\n",
       "      <td>neutral</td>\n",
       "      <td>Technopolis plans to develop in stages an area...</td>\n",
       "    </tr>\n",
       "    <tr>\n",
       "      <th>2</th>\n",
       "      <td>negative</td>\n",
       "      <td>The international electronic industry company ...</td>\n",
       "    </tr>\n",
       "    <tr>\n",
       "      <th>3</th>\n",
       "      <td>positive</td>\n",
       "      <td>With the new production plant the company woul...</td>\n",
       "    </tr>\n",
       "    <tr>\n",
       "      <th>4</th>\n",
       "      <td>positive</td>\n",
       "      <td>According to the company 's updated strategy f...</td>\n",
       "    </tr>\n",
       "    <tr>\n",
       "      <th>...</th>\n",
       "      <td>...</td>\n",
       "      <td>...</td>\n",
       "    </tr>\n",
       "    <tr>\n",
       "      <th>4841</th>\n",
       "      <td>negative</td>\n",
       "      <td>LONDON MarketWatch -- Share prices ended lower...</td>\n",
       "    </tr>\n",
       "    <tr>\n",
       "      <th>4842</th>\n",
       "      <td>neutral</td>\n",
       "      <td>Rinkuskiai 's beer sales fell by 6.5 per cent ...</td>\n",
       "    </tr>\n",
       "    <tr>\n",
       "      <th>4843</th>\n",
       "      <td>negative</td>\n",
       "      <td>Operating profit fell to EUR 35.4 mn from EUR ...</td>\n",
       "    </tr>\n",
       "    <tr>\n",
       "      <th>4844</th>\n",
       "      <td>negative</td>\n",
       "      <td>Net sales of the Paper segment decreased to EU...</td>\n",
       "    </tr>\n",
       "    <tr>\n",
       "      <th>4845</th>\n",
       "      <td>negative</td>\n",
       "      <td>Sales in Finland decreased by 10.5 % in Januar...</td>\n",
       "    </tr>\n",
       "  </tbody>\n",
       "</table>\n",
       "<p>4846 rows × 2 columns</p>\n",
       "</div>"
      ],
      "text/plain": [
       "         Label                                               Text\n",
       "0      neutral  According to Gran , the company has no plans t...\n",
       "1      neutral  Technopolis plans to develop in stages an area...\n",
       "2     negative  The international electronic industry company ...\n",
       "3     positive  With the new production plant the company woul...\n",
       "4     positive  According to the company 's updated strategy f...\n",
       "...        ...                                                ...\n",
       "4841  negative  LONDON MarketWatch -- Share prices ended lower...\n",
       "4842   neutral  Rinkuskiai 's beer sales fell by 6.5 per cent ...\n",
       "4843  negative  Operating profit fell to EUR 35.4 mn from EUR ...\n",
       "4844  negative  Net sales of the Paper segment decreased to EU...\n",
       "4845  negative  Sales in Finland decreased by 10.5 % in Januar...\n",
       "\n",
       "[4846 rows x 2 columns]"
      ]
     },
     "execution_count": 3,
     "metadata": {},
     "output_type": "execute_result"
    }
   ],
   "source": [
    "data"
   ]
  },
  {
   "cell_type": "code",
   "execution_count": 4,
   "metadata": {
    "execution": {
     "iopub.execute_input": "2021-02-02T22:54:23.915238Z",
     "iopub.status.busy": "2021-02-02T22:54:23.914273Z",
     "iopub.status.idle": "2021-02-02T22:54:23.918508Z",
     "shell.execute_reply": "2021-02-02T22:54:23.919867Z"
    },
    "papermill": {
     "duration": 0.034172,
     "end_time": "2021-02-02T22:54:23.920106",
     "exception": false,
     "start_time": "2021-02-02T22:54:23.885934",
     "status": "completed"
    },
    "tags": []
   },
   "outputs": [
    {
     "name": "stdout",
     "output_type": "stream",
     "text": [
      "<class 'pandas.core.frame.DataFrame'>\n",
      "RangeIndex: 4846 entries, 0 to 4845\n",
      "Data columns (total 2 columns):\n",
      " #   Column  Non-Null Count  Dtype \n",
      "---  ------  --------------  ----- \n",
      " 0   Label   4846 non-null   object\n",
      " 1   Text    4846 non-null   object\n",
      "dtypes: object(2)\n",
      "memory usage: 75.8+ KB\n"
     ]
    }
   ],
   "source": [
    "data.info()"
   ]
  },
  {
   "cell_type": "markdown",
   "metadata": {
    "papermill": {
     "duration": 0.013203,
     "end_time": "2021-02-02T22:54:23.947725",
     "exception": false,
     "start_time": "2021-02-02T22:54:23.934522",
     "status": "completed"
    },
    "tags": []
   },
   "source": [
    "# Preprocessing"
   ]
  },
  {
   "cell_type": "code",
   "execution_count": 5,
   "metadata": {
    "execution": {
     "iopub.execute_input": "2021-02-02T22:54:23.982518Z",
     "iopub.status.busy": "2021-02-02T22:54:23.981520Z",
     "iopub.status.idle": "2021-02-02T22:54:23.984924Z",
     "shell.execute_reply": "2021-02-02T22:54:23.984365Z"
    },
    "papermill": {
     "duration": 0.023755,
     "end_time": "2021-02-02T22:54:23.985064",
     "exception": false,
     "start_time": "2021-02-02T22:54:23.961309",
     "status": "completed"
    },
    "tags": []
   },
   "outputs": [],
   "source": [
    "def get_sequences(texts):\n",
    "    tokenizer = Tokenizer()\n",
    "    tokenizer.fit_on_texts(texts)\n",
    "    \n",
    "    sequences = tokenizer.texts_to_sequences(texts)\n",
    "    print(\"Vocab length:\", len(tokenizer.word_index) + 1)\n",
    "    \n",
    "    max_seq_length = np.max(list(map(lambda x: len(x), sequences)))\n",
    "    print(\"Maximum sequence length:\", max_seq_length)\n",
    "    \n",
    "    sequences = pad_sequences(sequences, maxlen=max_seq_length, padding='post')\n",
    "    \n",
    "    return sequences"
   ]
  },
  {
   "cell_type": "code",
   "execution_count": 6,
   "metadata": {
    "execution": {
     "iopub.execute_input": "2021-02-02T22:54:24.018793Z",
     "iopub.status.busy": "2021-02-02T22:54:24.017880Z",
     "iopub.status.idle": "2021-02-02T22:54:24.021277Z",
     "shell.execute_reply": "2021-02-02T22:54:24.020683Z"
    },
    "papermill": {
     "duration": 0.023296,
     "end_time": "2021-02-02T22:54:24.021430",
     "exception": false,
     "start_time": "2021-02-02T22:54:23.998134",
     "status": "completed"
    },
    "tags": []
   },
   "outputs": [],
   "source": [
    "def preprocess_inputs(df):\n",
    "    df = df.copy()\n",
    "    \n",
    "    sequences = get_sequences(df['Text'])\n",
    "    \n",
    "    label_mapping = {\n",
    "        'negative': 0,\n",
    "        'neutral': 1,\n",
    "        'positive': 2\n",
    "    }\n",
    "    \n",
    "    y = df['Label'].replace(label_mapping)\n",
    "    \n",
    "    train_sequences, test_sequences, y_train, y_test = train_test_split(sequences, y, train_size=0.7, shuffle=True, random_state=1)\n",
    "    \n",
    "    return train_sequences, test_sequences, y_train, y_test"
   ]
  },
  {
   "cell_type": "code",
   "execution_count": 7,
   "metadata": {
    "execution": {
     "iopub.execute_input": "2021-02-02T22:54:24.073677Z",
     "iopub.status.busy": "2021-02-02T22:54:24.068598Z",
     "iopub.status.idle": "2021-02-02T22:54:24.410125Z",
     "shell.execute_reply": "2021-02-02T22:54:24.410937Z"
    },
    "papermill": {
     "duration": 0.37592,
     "end_time": "2021-02-02T22:54:24.411181",
     "exception": false,
     "start_time": "2021-02-02T22:54:24.035261",
     "status": "completed"
    },
    "tags": []
   },
   "outputs": [
    {
     "name": "stdout",
     "output_type": "stream",
     "text": [
      "Vocab length: 10123\n",
      "Maximum sequence length: 71\n"
     ]
    }
   ],
   "source": [
    "train_sequences, test_sequences, y_train, y_test = preprocess_inputs(data)"
   ]
  },
  {
   "cell_type": "code",
   "execution_count": 8,
   "metadata": {
    "execution": {
     "iopub.execute_input": "2021-02-02T22:54:24.450651Z",
     "iopub.status.busy": "2021-02-02T22:54:24.449595Z",
     "iopub.status.idle": "2021-02-02T22:54:24.453160Z",
     "shell.execute_reply": "2021-02-02T22:54:24.453722Z"
    },
    "papermill": {
     "duration": 0.02747,
     "end_time": "2021-02-02T22:54:24.453942",
     "exception": false,
     "start_time": "2021-02-02T22:54:24.426472",
     "status": "completed"
    },
    "tags": []
   },
   "outputs": [
    {
     "data": {
      "text/plain": [
       "array([[5442,  510,   16, ...,    0,    0,    0],\n",
       "       [  22, 1628,    4, ...,    0,    0,    0],\n",
       "       [1141,  936,  136, ...,    0,    0,    0],\n",
       "       ...,\n",
       "       [   1,  419,   16, ...,    0,    0,    0],\n",
       "       [2586,  123, 3247, ...,    0,    0,    0],\n",
       "       [  30,  615,  555, ...,    0,    0,    0]], dtype=int32)"
      ]
     },
     "execution_count": 8,
     "metadata": {},
     "output_type": "execute_result"
    }
   ],
   "source": [
    "train_sequences"
   ]
  },
  {
   "cell_type": "code",
   "execution_count": 9,
   "metadata": {
    "execution": {
     "iopub.execute_input": "2021-02-02T22:54:24.493232Z",
     "iopub.status.busy": "2021-02-02T22:54:24.492196Z",
     "iopub.status.idle": "2021-02-02T22:54:24.496782Z",
     "shell.execute_reply": "2021-02-02T22:54:24.496231Z"
    },
    "papermill": {
     "duration": 0.028018,
     "end_time": "2021-02-02T22:54:24.496960",
     "exception": false,
     "start_time": "2021-02-02T22:54:24.468942",
     "status": "completed"
    },
    "tags": []
   },
   "outputs": [
    {
     "data": {
      "text/plain": [
       "545     2\n",
       "2374    0\n",
       "4217    1\n",
       "1071    1\n",
       "716     2\n",
       "       ..\n",
       "2895    1\n",
       "2763    1\n",
       "905     2\n",
       "3980    1\n",
       "235     2\n",
       "Name: Label, Length: 3392, dtype: int64"
      ]
     },
     "execution_count": 9,
     "metadata": {},
     "output_type": "execute_result"
    }
   ],
   "source": [
    "y_train"
   ]
  },
  {
   "cell_type": "markdown",
   "metadata": {
    "papermill": {
     "duration": 0.015297,
     "end_time": "2021-02-02T22:54:24.528082",
     "exception": false,
     "start_time": "2021-02-02T22:54:24.512785",
     "status": "completed"
    },
    "tags": []
   },
   "source": [
    "# Training"
   ]
  },
  {
   "cell_type": "code",
   "execution_count": 10,
   "metadata": {
    "execution": {
     "iopub.execute_input": "2021-02-02T22:54:24.569031Z",
     "iopub.status.busy": "2021-02-02T22:54:24.568281Z",
     "iopub.status.idle": "2021-02-02T22:54:43.604057Z",
     "shell.execute_reply": "2021-02-02T22:54:43.603368Z"
    },
    "papermill": {
     "duration": 19.060599,
     "end_time": "2021-02-02T22:54:43.604216",
     "exception": false,
     "start_time": "2021-02-02T22:54:24.543617",
     "status": "completed"
    },
    "tags": []
   },
   "outputs": [
    {
     "name": "stdout",
     "output_type": "stream",
     "text": [
      "Epoch 1/100\n",
      "85/85 [==============================] - 8s 33ms/step - loss: 0.9045 - accuracy: 0.5984 - val_loss: 0.8001 - val_accuracy: 0.6406\n",
      "Epoch 2/100\n",
      "85/85 [==============================] - 2s 21ms/step - loss: 0.5029 - accuracy: 0.8062 - val_loss: 0.7728 - val_accuracy: 0.6922\n",
      "Epoch 3/100\n",
      "85/85 [==============================] - 2s 21ms/step - loss: 0.1609 - accuracy: 0.9471 - val_loss: 0.8847 - val_accuracy: 0.7010\n",
      "Epoch 4/100\n",
      "85/85 [==============================] - 2s 23ms/step - loss: 0.0589 - accuracy: 0.9823 - val_loss: 1.0697 - val_accuracy: 0.7099\n",
      "Epoch 5/100\n",
      "85/85 [==============================] - 2s 22ms/step - loss: 0.0247 - accuracy: 0.9944 - val_loss: 1.4598 - val_accuracy: 0.7069\n"
     ]
    }
   ],
   "source": [
    "inputs = tf.keras.Input(shape=(train_sequences.shape[1],))\n",
    "x = tf.keras.layers.Embedding(\n",
    "    input_dim=10123,\n",
    "    output_dim=128,\n",
    "    input_length=train_sequences.shape[1]\n",
    ")(inputs)\n",
    "x = tf.keras.layers.GRU(256, return_sequences=True, activation='tanh')(x)\n",
    "x = tf.keras.layers.Flatten()(x)\n",
    "outputs = tf.keras.layers.Dense(3, activation='softmax')(x)\n",
    "\n",
    "model = tf.keras.Model(inputs=inputs, outputs=outputs)\n",
    "\n",
    "model.compile(\n",
    "    optimizer='adam',\n",
    "    loss='sparse_categorical_crossentropy',\n",
    "    metrics=['accuracy']\n",
    ")\n",
    "\n",
    "history = model.fit(\n",
    "    train_sequences,\n",
    "    y_train,\n",
    "    validation_split=0.2,\n",
    "    batch_size=32,\n",
    "    epochs=100,\n",
    "    callbacks=[\n",
    "        tf.keras.callbacks.EarlyStopping(\n",
    "            monitor='val_loss',\n",
    "            patience=3,\n",
    "            restore_best_weights=True\n",
    "        )\n",
    "    ]\n",
    ")"
   ]
  },
  {
   "cell_type": "markdown",
   "metadata": {
    "papermill": {
     "duration": 0.072154,
     "end_time": "2021-02-02T22:54:43.748890",
     "exception": false,
     "start_time": "2021-02-02T22:54:43.676736",
     "status": "completed"
    },
    "tags": []
   },
   "source": [
    "# Results"
   ]
  },
  {
   "cell_type": "code",
   "execution_count": 11,
   "metadata": {
    "execution": {
     "iopub.execute_input": "2021-02-02T22:54:43.903130Z",
     "iopub.status.busy": "2021-02-02T22:54:43.902316Z",
     "iopub.status.idle": "2021-02-02T22:54:44.125200Z",
     "shell.execute_reply": "2021-02-02T22:54:44.124563Z"
    },
    "papermill": {
     "duration": 0.302778,
     "end_time": "2021-02-02T22:54:44.125368",
     "exception": false,
     "start_time": "2021-02-02T22:54:43.822590",
     "status": "completed"
    },
    "tags": []
   },
   "outputs": [
    {
     "name": "stdout",
     "output_type": "stream",
     "text": [
      "    Test Loss: 0.66945\n",
      "Test Accuracy: 74.62%\n"
     ]
    }
   ],
   "source": [
    "results = model.evaluate(test_sequences, y_test, verbose=0)\n",
    "\n",
    "print(\"    Test Loss: {:.5f}\".format(results[0]))\n",
    "print(\"Test Accuracy: {:.2f}%\".format(results[1] * 100))"
   ]
  }
 ],
 "metadata": {
  "kernelspec": {
   "display_name": "Python 3",
   "language": "python",
   "name": "python3"
  },
  "language_info": {
   "codemirror_mode": {
    "name": "ipython",
    "version": 3
   },
   "file_extension": ".py",
   "mimetype": "text/x-python",
   "name": "python",
   "nbconvert_exporter": "python",
   "pygments_lexer": "ipython3",
   "version": "3.7.9"
  },
  "papermill": {
   "default_parameters": {},
   "duration": 36.897585,
   "end_time": "2021-02-02T22:54:47.243365",
   "environment_variables": {},
   "exception": null,
   "input_path": "__notebook__.ipynb",
   "output_path": "__notebook__.ipynb",
   "parameters": {},
   "start_time": "2021-02-02T22:54:10.345780",
   "version": "2.2.2"
  }
 },
 "nbformat": 4,
 "nbformat_minor": 4
}
